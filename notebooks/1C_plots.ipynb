{
 "cells": [
  {
   "cell_type": "markdown",
   "id": "9b2cba1c",
   "metadata": {},
   "source": [
    "# Imports"
   ]
  },
  {
   "cell_type": "code",
   "execution_count": 2,
   "id": "4b0b1683",
   "metadata": {},
   "outputs": [
    {
     "name": "stderr",
     "output_type": "stream",
     "text": [
      "/usr/lib/python3/dist-packages/requests/__init__.py:80: RequestsDependencyWarning: urllib3 (1.26.11) or chardet (3.0.4) doesn't match a supported version!\n",
      "  RequestsDependencyWarning)\n"
     ]
    }
   ],
   "source": [
    "from matplotlib import pyplot as plt\n",
    "import pandas as pd\n",
    "import seaborn as sns\n",
    "import os\n",
    "import numpy as np\n",
    "\n",
    "import json\n",
    "\n",
    "from transformers import MarianTokenizer\n",
    "import numpy as np\n",
    "import matplotlib.pyplot as plt\n",
    "import collections\n",
    "from collections import defaultdict"
   ]
  },
  {
   "cell_type": "code",
   "execution_count": 3,
   "id": "5b1607e1",
   "metadata": {},
   "outputs": [],
   "source": [
    "src_lang = \"en\"\n",
    "translator = \"opus-mt\""
   ]
  },
  {
   "cell_type": "markdown",
   "id": "adf37372",
   "metadata": {},
   "source": [
    "# Defining plot styles"
   ]
  },
  {
   "cell_type": "code",
   "execution_count": 4,
   "id": "603516f6",
   "metadata": {},
   "outputs": [],
   "source": [
    "import seaborn as sns\n",
    "import matplotlib.pyplot as plt\n",
    "from scipy.stats import pearsonr, kde, gaussian_kde\n",
    "import matplotlib\n",
    "from matplotlib import rc\n",
    "\n",
    "import pandas as pd"
   ]
  },
  {
   "cell_type": "code",
   "execution_count": 5,
   "id": "6c6d06be",
   "metadata": {},
   "outputs": [],
   "source": [
    "\n",
    "\n",
    "plt.rcParams['font.family'] = 'serif'\n",
    "#plt.rcParams['text.usetex'] = True\n",
    "plt.rcParams['text.usetex'] = False\n",
    "# plt.rcParams['font.family'] = 'serif'\n",
    "# plt.rcParams['font.serif'] = ['Times New Roman']\n",
    "\n",
    "# plt.rcParams['font.monospace'] = 'Ubuntu Mono'\n",
    "plt.rcParams['font.size'] = 26\n",
    "plt.rcParams['axes.labelsize'] = 26\n",
    "plt.rcParams[\"axes.labelweight\"] = \"bold\"\n",
    "plt.rcParams['axes.titlesize'] = 26\n",
    "plt.rcParams['axes.titleweight'] = 'bold'\n",
    "plt.rcParams['xtick.labelsize'] = 16\n",
    "plt.rcParams['ytick.labelsize'] = 16\n",
    "plt.rcParams['legend.fontsize'] = 18\n"
   ]
  },
  {
   "cell_type": "markdown",
   "id": "dc0404cb",
   "metadata": {},
   "source": [
    "# Load / Process Data"
   ]
  },
  {
   "cell_type": "code",
   "execution_count": 6,
   "id": "0750868d",
   "metadata": {},
   "outputs": [],
   "source": [
    "RECALL=-3\n",
    "PRECISION=-1\n",
    "\n",
    "TRANSLATOR=\"opus-mt\"\n",
    "SRC_LANG=\"en\""
   ]
  },
  {
   "cell_type": "code",
   "execution_count": 7,
   "id": "c1aafcb8",
   "metadata": {},
   "outputs": [],
   "source": [
    "def load_old_tokens_dict(tokens_file):\n",
    "    with open(tokens_file, \"r\") as f:\n",
    "        tokens_str = (f.readlines())[0]\n",
    "    tokens_str = tokens_str.replace(\"'\", \"\\\"\")\n",
    "    tokens_dict = json.loads(tokens_str)\n",
    "    \n",
    "    if 'worker' in tokens_dict:\n",
    "        tokens_dict.pop('worker')\n",
    "        \n",
    "    return tokens_dict\n",
    "\n",
    "\n",
    "def create_tokens_dict(variants_file, translator, src_lang, tgt_lang):\n",
    "    tokens_dict = defaultdict(dict)\n",
    "    tokenizer = MarianTokenizer.from_pretrained(f\"Helsinki-NLP/{translator}-{src_lang}-{tgt_lang}\")\n",
    "    \n",
    "    with open(variants_file, 'r') as var_json:\n",
    "        variants_dict = json.load(var_json)\n",
    "    \n",
    "    for prof_gender, variants in variants_dict.items():\n",
    "        prof, gender = prof_gender.split('-')\n",
    "        gender = gender.capitalize()\n",
    "        for v_idx, var in enumerate(variants):\n",
    "            with tokenizer.as_target_tokenizer():\n",
    "                tokenized = tokenizer(var)\n",
    "                num_tokens = len(tokenized['input_ids']) - 1\n",
    "            \n",
    "            tokens_dict[f\"{prof}-{str(v_idx)}\"][gender] = num_tokens\n",
    "    return tokens_dict\n"
   ]
  },
  {
   "cell_type": "code",
   "execution_count": 8,
   "id": "d538b214",
   "metadata": {},
   "outputs": [
    {
     "data": {
      "application/vnd.jupyter.widget-view+json": {
       "model_id": "539d8f2a01c44cb1b3b7dfd3fb4eaccb",
       "version_major": 2,
       "version_minor": 0
      },
      "text/plain": [
       "HBox(children=(IntProgress(value=0, description='Downloading', max=799290, style=ProgressStyle(description_wid…"
      ]
     },
     "metadata": {},
     "output_type": "display_data"
    },
    {
     "name": "stdout",
     "output_type": "stream",
     "text": [
      "\n"
     ]
    },
    {
     "data": {
      "application/vnd.jupyter.widget-view+json": {
       "model_id": "39dae162419b4c2482f777b31599f053",
       "version_major": 2,
       "version_minor": 0
      },
      "text/plain": [
       "HBox(children=(IntProgress(value=0, description='Downloading', max=890322, style=ProgressStyle(description_wid…"
      ]
     },
     "metadata": {},
     "output_type": "display_data"
    },
    {
     "name": "stdout",
     "output_type": "stream",
     "text": [
      "\n"
     ]
    },
    {
     "data": {
      "application/vnd.jupyter.widget-view+json": {
       "model_id": "ea82be4142b14e9b9745a0eb488235c2",
       "version_major": 2,
       "version_minor": 0
      },
      "text/plain": [
       "HBox(children=(IntProgress(value=0, description='Downloading', max=2153795, style=ProgressStyle(description_wi…"
      ]
     },
     "metadata": {},
     "output_type": "display_data"
    },
    {
     "name": "stdout",
     "output_type": "stream",
     "text": [
      "\n"
     ]
    },
    {
     "data": {
      "application/vnd.jupyter.widget-view+json": {
       "model_id": "df989690c17b449b8b09e0672ad1b491",
       "version_major": 2,
       "version_minor": 0
      },
      "text/plain": [
       "HBox(children=(IntProgress(value=0, description='Downloading', max=42, style=ProgressStyle(description_width='…"
      ]
     },
     "metadata": {},
     "output_type": "display_data"
    },
    {
     "name": "stdout",
     "output_type": "stream",
     "text": [
      "\n"
     ]
    },
    {
     "data": {
      "application/vnd.jupyter.widget-view+json": {
       "model_id": "38f86bcd514146f4be66035da0f03630",
       "version_major": 2,
       "version_minor": 0
      },
      "text/plain": [
       "HBox(children=(IntProgress(value=0, description='Downloading', max=1381, style=ProgressStyle(description_width…"
      ]
     },
     "metadata": {},
     "output_type": "display_data"
    },
    {
     "name": "stdout",
     "output_type": "stream",
     "text": [
      "\n"
     ]
    },
    {
     "data": {
      "application/vnd.jupyter.widget-view+json": {
       "model_id": "b6e3360858244f3ab9d26872e87a1403",
       "version_major": 2,
       "version_minor": 0
      },
      "text/plain": [
       "HBox(children=(IntProgress(value=0, description='Downloading', max=768489, style=ProgressStyle(description_wid…"
      ]
     },
     "metadata": {},
     "output_type": "display_data"
    },
    {
     "name": "stdout",
     "output_type": "stream",
     "text": [
      "\n"
     ]
    },
    {
     "data": {
      "application/vnd.jupyter.widget-view+json": {
       "model_id": "5e4fdf1474bf481eb0e21db25ed4e271",
       "version_major": 2,
       "version_minor": 0
      },
      "text/plain": [
       "HBox(children=(IntProgress(value=0, description='Downloading', max=796845, style=ProgressStyle(description_wid…"
      ]
     },
     "metadata": {},
     "output_type": "display_data"
    },
    {
     "name": "stdout",
     "output_type": "stream",
     "text": [
      "\n"
     ]
    },
    {
     "data": {
      "application/vnd.jupyter.widget-view+json": {
       "model_id": "eebdc69a79964dba86994decb9b96de6",
       "version_major": 2,
       "version_minor": 0
      },
      "text/plain": [
       "HBox(children=(IntProgress(value=0, description='Downloading', max=1273232, style=ProgressStyle(description_wi…"
      ]
     },
     "metadata": {},
     "output_type": "display_data"
    },
    {
     "name": "stdout",
     "output_type": "stream",
     "text": [
      "\n"
     ]
    },
    {
     "data": {
      "application/vnd.jupyter.widget-view+json": {
       "model_id": "d8b3255101554d6ca3fffa257346c510",
       "version_major": 2,
       "version_minor": 0
      },
      "text/plain": [
       "HBox(children=(IntProgress(value=0, description='Downloading', max=42, style=ProgressStyle(description_width='…"
      ]
     },
     "metadata": {},
     "output_type": "display_data"
    },
    {
     "name": "stdout",
     "output_type": "stream",
     "text": [
      "\n"
     ]
    },
    {
     "data": {
      "application/vnd.jupyter.widget-view+json": {
       "model_id": "15591b77699e4ad8b176385e2739235c",
       "version_major": 2,
       "version_minor": 0
      },
      "text/plain": [
       "HBox(children=(IntProgress(value=0, description='Downloading', max=1335, style=ProgressStyle(description_width…"
      ]
     },
     "metadata": {},
     "output_type": "display_data"
    },
    {
     "name": "stdout",
     "output_type": "stream",
     "text": [
      "\n"
     ]
    }
   ],
   "source": [
    "tokens_dict_he = create_tokens_dict(\"../data/wino_mt/he_variants.json\",TRANSLATOR, SRC_LANG, \"he\")\n",
    "tokens_dict_de = create_tokens_dict(\"../data/wino_mt/de_variants.json\",TRANSLATOR, SRC_LANG, \"de\")"
   ]
  },
  {
   "cell_type": "code",
   "execution_count": 9,
   "id": "441cd88c",
   "metadata": {},
   "outputs": [],
   "source": [
    "with open(\"../data/male_stereotype\",\"r\") as f:\n",
    "    male_stereotype = f.readlines()\n",
    "    male_stereotype = {i.strip().lower() for i in male_stereotype}"
   ]
  },
  {
   "cell_type": "code",
   "execution_count": 10,
   "id": "789ffaf4",
   "metadata": {},
   "outputs": [
    {
     "data": {
      "text/plain": [
       "{'analyst',\n",
       " 'carpenter',\n",
       " 'ceo',\n",
       " 'chief',\n",
       " 'construction worker',\n",
       " 'cook',\n",
       " 'developer',\n",
       " 'driver',\n",
       " 'farmer',\n",
       " 'guard',\n",
       " 'janitor',\n",
       " 'laborer',\n",
       " 'lawyer',\n",
       " 'manager',\n",
       " 'mechanic',\n",
       " 'mover',\n",
       " 'physician',\n",
       " 'salesperson',\n",
       " 'sheriff',\n",
       " 'supervisor'}"
      ]
     },
     "execution_count": 10,
     "metadata": {},
     "output_type": "execute_result"
    }
   ],
   "source": [
    "male_stereotype"
   ]
  },
  {
   "cell_type": "markdown",
   "id": "0bf6d406",
   "metadata": {},
   "source": [
    "# Create Plots"
   ]
  },
  {
   "cell_type": "code",
   "execution_count": 13,
   "id": "bb89a3fc",
   "metadata": {},
   "outputs": [],
   "source": [
    "def graph_5_delta_g(results_file,tokens_dict,lang):\n",
    "    with open(results_file, \"r\") as f:\n",
    "        lines = f.readlines()\n",
    "        recalls_str = lines[RECALL]\n",
    "        recalls_str = recalls_str.replace(\"'\", \"\\\"\")\n",
    "        recalls_dict = json.loads(recalls_str)\n",
    "\n",
    "        precisions_str = lines[PRECISION]\n",
    "        precisions_str = precisions_str.replace(\"'\", \"\\\"\")\n",
    "        precisions_dict = json.loads(precisions_str)\n",
    "\n",
    "    professions = list(tokens_dict.keys())\n",
    "    delta_t_dict = dict()\n",
    "\n",
    "    \n",
    "    for p in professions:\n",
    "        delta_t_dict[p] = tokens_dict[p]['Male'] - tokens_dict[p]['Female']\n",
    "    delta_t_dict = dict(sorted(delta_t_dict.items(), key=lambda item: item[1]))\n",
    "\n",
    "\n",
    "    x = []\n",
    "    y = []\n",
    "    \n",
    "    data = pd.DataFrame({\"Delta T\": [], \"Delta G\": [], \"M F1\": [], \"F F1\": [], \"M T\": [], \"F T\": []})\n",
    "\n",
    "    for prof, delta_t in delta_t_dict.items():\n",
    "        prof = prof.lower()\n",
    "        if prof in recalls_dict and prof in precisions_dict:\n",
    "            r_m,r_f=recalls_dict[prof]['male_recall'],recalls_dict[prof]['female_recall']\n",
    "            p_m,p_f=precisions_dict[prof]['male_precision'],precisions_dict[prof]['female_precision']\n",
    "            if r_m ==0 and p_m == 0:\n",
    "                male_f1 = 0\n",
    "            else:\n",
    "                male_f1= 2 * (r_m*p_m)/(r_m+p_m)\n",
    "    \n",
    "            if r_f ==0 and p_f == 0:\n",
    "                female_f1 = 0\n",
    "            else:\n",
    "                female_f1= 2 * (r_f*p_f)/(r_f+p_f)\n",
    "                \n",
    "            data = data.append({\"Delta T\": delta_t, \"Delta G\": male_f1 - female_f1,\n",
    "                                \"M F1\": male_f1, \"F F1\": female_f1,\n",
    "                                \"M T\": tokens_dict[prof]['Male'], \"F T\": tokens_dict[prof]['Female']},\n",
    "                               ignore_index=True)\n",
    "\n",
    "\n",
    "    f, ax = plt.subplots(figsize=(7, 6))\n",
    "\n",
    "    sns.boxplot(\n",
    "        data=data, x=\"Delta T\", y=\"Delta G\",\n",
    "        orient=\"v\",\n",
    "        notch=False, showcaps=False, showmeans=True,\n",
    "        boxprops={\"facecolor\": (.4, .6, .8, .5)},\n",
    "        medianprops={\"color\": \"coral\"})\n",
    "    sns.stripplot(x=\"Delta T\", y=\"Delta G\", data=data,\n",
    "              size=4, color=\".3\", linewidth=0)\n",
    "    \n",
    "#     z = np.polyfit(data['Delta T'], data['Delta G'], 1)\n",
    "#     p = np.poly1d(z)\n",
    "#     ax.plot(data['Delta T'] + len(data['Delta T'].unique())- 1, p(data['Delta T']), \"r--\")\n",
    "\n",
    "    # Tweak the visual presentation\n",
    "    ax.yaxis.grid(True)\n",
    "    sns.despine(trim=False)\n",
    "    \n",
    "    plt.tight_layout()\n",
    "    plt.savefig(f'../graphs/graph_5_{lang}_delta_g.pdf')\n",
    "    plt.show()\n",
    "    \n",
    "    print(\"correlation\")\n",
    "    print(data.corr())\n",
    "    \n",
    "    tidy = data.melt(value_vars=['M F1','F F1'], id_vars=['M T'], value_name='F1',var_name='gender')\n",
    "    print(tidy)\n",
    "    \n",
    "    sns.catplot(x=\"M T\", y='F1',\n",
    "        data=tidy, kind=\"bar\", hue='gender', \n",
    "        palette=sns.color_palette(['lightblue', 'brown']),\n",
    "        height=4.5, aspect=1.8)\n"
   ]
  },
  {
   "cell_type": "code",
   "execution_count": 14,
   "id": "4fdcd6c0",
   "metadata": {},
   "outputs": [
    {
     "data": {
      "image/png": "[encoded data removed]",
      "text/plain": [
       "<Figure size 504x432 with 1 Axes>"
      ]
     },
     "metadata": {
      "needs_background": "light"
     },
     "output_type": "display_data"
    },
    {
     "name": "stdout",
     "output_type": "stream",
     "text": [
      "correlation\n",
      "          Delta T   Delta G      M F1      F F1       M T       F T\n",
      "Delta T  1.000000 -0.249129 -0.244322  0.161575  0.307190 -0.554959\n",
      "Delta G -0.249129  1.000000  0.773641 -0.830557 -0.315953 -0.071033\n",
      "M F1    -0.244322  0.773641  1.000000 -0.289667 -0.500019 -0.235892\n",
      "F F1     0.161575 -0.830557 -0.289667  1.000000  0.037767 -0.100042\n",
      "M T      0.307190 -0.315953 -0.500019  0.037767  1.000000  0.621176\n",
      "F T     -0.554959 -0.071033 -0.235892 -0.100042  0.621176  1.000000\n",
      "    M T gender        F1\n",
      "0   1.0   M F1  0.850000\n",
      "1   1.0   M F1  0.761905\n",
      "2   1.0   M F1  0.776471\n",
      "3   1.0   M F1  0.678261\n",
      "4   1.0   M F1  0.933333\n",
      "..  ...    ...       ...\n",
      "91  1.0   F F1  1.000000\n",
      "92  2.0   F F1  0.800000\n",
      "93  2.0   F F1  0.440000\n",
      "94  2.0   F F1  0.000000\n",
      "95  2.0   F F1  0.750000\n",
      "\n",
      "[96 rows x 3 columns]\n"
     ]
    },
    {
     "data": {
      "image/png": "[encoded data removed]",
      "text/plain": [
       "<Figure size 696.125x324 with 1 Axes>"
      ]
     },
     "metadata": {
      "needs_background": "light"
     },
     "output_type": "display_data"
    }
   ],
   "source": [
    "graph_5_delta_g(\"../data/de_results.txt\", tokens_dict_de,\"German\")"
   ]
  },
  {
   "cell_type": "code",
   "execution_count": 15,
   "id": "9b3f1d15",
   "metadata": {},
   "outputs": [
    {
     "data": {
      "image/png": "[encoded data removed]",
      "text/plain": [
       "<Figure size 504x432 with 1 Axes>"
      ]
     },
     "metadata": {
      "needs_background": "light"
     },
     "output_type": "display_data"
    },
    {
     "name": "stdout",
     "output_type": "stream",
     "text": [
      "correlation\n",
      "          Delta T   Delta G      M F1      F F1       M T       F T\n",
      "Delta T  1.000000 -0.109746  0.213144  0.229803  0.060523 -0.721798\n",
      "Delta G -0.109746  1.000000  0.266439 -0.835765  0.077051  0.137245\n",
      "M F1     0.213144  0.266439  1.000000  0.306559 -0.074438 -0.214405\n",
      "F F1     0.229803 -0.835765  0.306559  1.000000 -0.118498 -0.257679\n",
      "M T      0.060523  0.077051 -0.074438 -0.118498  1.000000  0.647150\n",
      "F T     -0.721798  0.137245 -0.214405 -0.257679  0.647150  1.000000\n",
      "    M T gender        F1\n",
      "0   1.0   M F1  0.714286\n",
      "1   1.0   M F1  0.693333\n",
      "2   1.0   M F1  0.521739\n",
      "3   1.0   M F1  0.794118\n",
      "4   1.0   M F1  0.695652\n",
      "..  ...    ...       ...\n",
      "75  1.0   F F1  0.714286\n",
      "76  2.0   F F1  0.000000\n",
      "77  2.0   F F1  0.230769\n",
      "78  1.0   F F1  0.545455\n",
      "79  2.0   F F1  0.000000\n",
      "\n",
      "[80 rows x 3 columns]\n"
     ]
    },
    {
     "data": {
      "image/png": "[encoded data removed]",
      "text/plain": [
       "<Figure size 696.125x324 with 1 Axes>"
      ]
     },
     "metadata": {
      "needs_background": "light"
     },
     "output_type": "display_data"
    }
   ],
   "source": [
    "graph_5_delta_g(\"../data/he_results.txt\", tokens_dict_he,\"Hebrew\")"
   ]
  },
  {
   "cell_type": "code",
   "execution_count": 16,
   "id": "598d6003",
   "metadata": {},
   "outputs": [],
   "source": [
    "def graph_5_delta_s(results_file,tokens_dict,lang, male_stereotype):\n",
    "    with open(results_file, \"r\") as f:\n",
    "        lines = f.readlines()\n",
    "        recalls_str = lines[RECALL]\n",
    "        recalls_str = recalls_str.replace(\"'\", \"\\\"\")\n",
    "        recalls_dict = json.loads(recalls_str)\n",
    "\n",
    "        precisions_str = lines[PRECISION]\n",
    "        precisions_str = precisions_str.replace(\"'\", \"\\\"\")\n",
    "        precisions_dict = json.loads(precisions_str)\n",
    "\n",
    "    professions = list(tokens_dict.keys())\n",
    "    delta_t_dict = dict()\n",
    "    \n",
    "    for p in professions:\n",
    "        if p.split('-')[0] in male_stereotype:\n",
    "            delta_t_dict[p] = tokens_dict[p]['Male'] - tokens_dict[p]['Female']\n",
    "        else:\n",
    "            delta_t_dict[p] = tokens_dict[p]['Female'] - tokens_dict[p]['Male']\n",
    "    delta_t_dict = dict(sorted(delta_t_dict.items(), key=lambda item: item[1]))\n",
    "\n",
    "\n",
    "\n",
    "    data = pd.DataFrame({\"Delta T\": [], \"Delta G\": [], \"P F1\": [], \"A F1\": [], \"P T\": [], \"A T\": []})\n",
    "\n",
    "    for prof, delta_t in delta_t_dict.items():\n",
    "        prof = prof.lower()\n",
    "        if prof in recalls_dict and prof in precisions_dict:\n",
    "            r_m,r_f=recalls_dict[prof]['male_recall'],recalls_dict[prof]['female_recall']\n",
    "            p_m,p_f=precisions_dict[prof]['male_precision'],precisions_dict[prof]['female_precision']\n",
    "            if r_m ==0 and p_m == 0:\n",
    "                male_f1 = 0\n",
    "            else:\n",
    "                male_f1= 2 * (r_m*p_m)/(r_m+p_m)\n",
    "    \n",
    "            if r_f ==0 and p_f == 0:\n",
    "                female_f1 = 0\n",
    "            else:\n",
    "                female_f1= 2 * (r_f*p_f)/(r_f+p_f)\n",
    "            \n",
    "            if prof.split('-')[0] in male_stereotype:\n",
    "                # data = data.append({\"Delta T\": delta_t, \"Delta S\": male_f1 - female_f1}, ignore_index=True)\n",
    "                data = data.append({\"Delta T\": delta_t, \"Delta S\": male_f1 - female_f1,\n",
    "                    \"P F1\": male_f1, \"A F1\": female_f1,\n",
    "                    \"P T\": tokens_dict[prof]['Male'], \"A T\": tokens_dict[prof]['Female']},\n",
    "                   ignore_index=True)\n",
    "            else:\n",
    "                # data = data.append({\"Delta T\": delta_t, \"Delta S\": female_f1 - male_f1}, ignore_index=True)\n",
    "                data = data.append({\"Delta T\": delta_t, \"Delta S\": female_f1 - male_f1,\n",
    "                    \"P F1\": female_f1, \"A F1\": male_f1,\n",
    "                    \"P T\": tokens_dict[prof]['Female'], \"A T\": tokens_dict[prof]['Male']},\n",
    "                   ignore_index=True)\n",
    "\n",
    "\n",
    "    f, ax = plt.subplots(figsize=(7, 6))\n",
    "\n",
    "    sns.boxplot(\n",
    "        data=data, x=\"Delta T\", y=\"Delta S\",\n",
    "        orient=\"v\",\n",
    "        notch=False, showcaps=False,showmeans=True,\n",
    "        boxprops={\"facecolor\": (.6, .8, .4, .5)},\n",
    "        medianprops={\"color\": \"coral\"})\n",
    "    sns.stripplot(x=\"Delta T\", y=\"Delta S\", data=data,\n",
    "              size=4, color=\".3\", linewidth=0)\n",
    "    \n",
    "#     z = np.polyfit(data['Delta T'], data['Delta G'], 1)\n",
    "#     p = np.poly1d(z)\n",
    "#     ax.plot(data['Delta T'] + len(data['Delta T'].unique())- 1, p(data['Delta T']), \"r--\")\n",
    "\n",
    "    # Tweak the visual presentation\n",
    "    ax.yaxis.grid(True)\n",
    "    sns.despine(trim=False)\n",
    "    \n",
    "    plt.tight_layout()\n",
    "    plt.savefig(f'../graphs/graph_5_{lang}_delta_s.pdf')\n",
    "    plt.show()\n",
    "    \n",
    "    print(\"correlation\")\n",
    "    print(data.corr())\n",
    "    \n",
    "    tidy = data.melt(value_vars=['P F1','A F1'], id_vars=['P T'], value_name='F1',var_name='stereotpe')\n",
    "    print(tidy)\n",
    "    \n",
    "    sns.catplot(x=\"P T\", y='F1',\n",
    "        data=tidy, kind=\"bar\", hue='stereotpe', \n",
    "        palette=sns.color_palette(['mediumaquamarine', 'darkorange']),\n",
    "        height=4.5, aspect=1.8)\n"
   ]
  },
  {
   "cell_type": "code",
   "execution_count": 17,
   "id": "5d092d29",
   "metadata": {},
   "outputs": [
    {
     "data": {
      "image/png": "[encoded data removed]",
      "text/plain": [
       "<Figure size 504x432 with 1 Axes>"
      ]
     },
     "metadata": {
      "needs_background": "light"
     },
     "output_type": "display_data"
    },
    {
     "name": "stdout",
     "output_type": "stream",
     "text": [
      "correlation\n",
      "          Delta T  Delta G      P F1      A F1       P T       A T   Delta S\n",
      "Delta T  1.000000      NaN -0.268046  0.297326  0.556090 -0.477994 -0.414946\n",
      "Delta G       NaN      NaN       NaN       NaN       NaN       NaN       NaN\n",
      "P F1    -0.268046      NaN  1.000000  0.077973 -0.234556  0.037766  0.567724\n",
      "A F1     0.297326      NaN  0.077973  1.000000 -0.041826 -0.361062 -0.776445\n",
      "P T      0.556090      NaN -0.234556 -0.041826  1.000000  0.464219 -0.113728\n",
      "A T     -0.477994      NaN  0.037766 -0.361062  0.464219  1.000000  0.322013\n",
      "Delta S -0.414946      NaN  0.567724 -0.776445 -0.113728  0.322013  1.000000\n",
      "    P T stereotpe        F1\n",
      "0   1.0      P F1  0.693333\n",
      "1   1.0      P F1  0.521739\n",
      "2   1.0      P F1  0.794118\n",
      "3   1.0      P F1  0.866667\n",
      "4   1.0      P F1  0.676923\n",
      "..  ...       ...       ...\n",
      "75  2.0      A F1  0.714286\n",
      "76  2.0      A F1  0.695652\n",
      "77  3.0      A F1  0.571429\n",
      "78  2.0      A F1  0.736842\n",
      "79  3.0      A F1  0.133333\n",
      "\n",
      "[80 rows x 3 columns]\n"
     ]
    },
    {
     "data": {
      "image/png": "[encoded data removed]",
      "text/plain": [
       "<Figure size 722.725x324 with 1 Axes>"
      ]
     },
     "metadata": {
      "needs_background": "light"
     },
     "output_type": "display_data"
    }
   ],
   "source": [
    "graph_5_delta_s(\"../data/he_results.txt\", tokens_dict_he,\"Hebrew\", male_stereotype)"
   ]
  },
  {
   "cell_type": "code",
   "execution_count": 18,
   "id": "3d70fbc7",
   "metadata": {},
   "outputs": [
    {
     "data": {
      "image/png": "[encoded data removed]",
      "text/plain": [
       "<Figure size 504x432 with 1 Axes>"
      ]
     },
     "metadata": {
      "needs_background": "light"
     },
     "output_type": "display_data"
    },
    {
     "name": "stdout",
     "output_type": "stream",
     "text": [
      "correlation\n",
      "          Delta T  Delta G      P F1      A F1       P T       A T   Delta S\n",
      "Delta T  1.000000      NaN -0.296008  0.303112  0.622846 -0.540084 -0.368684\n",
      "Delta G       NaN      NaN       NaN       NaN       NaN       NaN       NaN\n",
      "P F1    -0.296008      NaN  1.000000 -0.320632 -0.301795  0.033546  0.798157\n",
      "A F1     0.303112      NaN -0.320632  1.000000 -0.010448 -0.378039 -0.826557\n",
      "P T      0.622846      NaN -0.301795 -0.010448  1.000000  0.322041 -0.172690\n",
      "A T     -0.540084      NaN  0.033546 -0.378039  0.322041  1.000000  0.260378\n",
      "Delta S -0.368684      NaN  0.798157 -0.826557 -0.172690  0.260378  1.000000\n",
      "    P T stereotpe        F1\n",
      "0   1.0      P F1  0.850000\n",
      "1   1.0      P F1  0.761905\n",
      "2   1.0      P F1  0.678261\n",
      "3   1.0      P F1  0.747664\n",
      "4   1.0      P F1  0.727273\n",
      "..  ...       ...       ...\n",
      "91  4.0      A F1  0.590164\n",
      "92  2.0      A F1  0.326531\n",
      "93  4.0      A F1  0.000000\n",
      "94  2.0      A F1  0.689655\n",
      "95  2.0      A F1  0.805556\n",
      "\n",
      "[96 rows x 3 columns]\n"
     ]
    },
    {
     "data": {
      "image/png": "[encoded data removed]",
      "text/plain": [
       "<Figure size 722.725x324 with 1 Axes>"
      ]
     },
     "metadata": {
      "needs_background": "light"
     },
     "output_type": "display_data"
    }
   ],
   "source": [
    "graph_5_delta_s(\"../data/de_results.txt\", tokens_dict_de,\"German\", male_stereotype)"
   ]
  }
 ],
 "metadata": {
  "kernelspec": {
   "display_name": "Python 3",
   "language": "python",
   "name": "python3"
  },
  "language_info": {
   "codemirror_mode": {
    "name": "ipython",
    "version": 3
   },
   "file_extension": ".py",
   "mimetype": "text/x-python",
   "name": "python",
   "nbconvert_exporter": "python",
   "pygments_lexer": "ipython3",
   "version": "3.6.9"
  }
 },
 "nbformat": 4,
 "nbformat_minor": 5
}
