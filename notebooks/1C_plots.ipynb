{
 "cells": [
  {
   "cell_type": "markdown",
   "id": "9b2cba1c",
   "metadata": {},
   "source": [
    "# Imports"
   ]
  },
  {
   "cell_type": "code",
   "execution_count": 10,
   "id": "4b0b1683",
   "metadata": {},
   "outputs": [],
   "source": [
    "from matplotlib import pyplot as plt\n",
    "import pandas as pd\n",
    "import seaborn as sns\n",
    "import os\n",
    "import numpy as np\n",
    "\n",
    "import json\n",
    "\n",
    "from transformers import MarianTokenizer\n",
    "import numpy as np\n",
    "import matplotlib.pyplot as plt\n",
    "import collections\n",
    "from collections import defaultdict"
   ]
  },
  {
   "cell_type": "code",
   "execution_count": 2,
   "id": "5b1607e1",
   "metadata": {},
   "outputs": [],
   "source": [
    "src_lang = \"en\"\n",
    "translator = \"opus-mt\""
   ]
  },
  {
   "cell_type": "markdown",
   "id": "adf37372",
   "metadata": {},
   "source": [
    "# Defining plot styles"
   ]
  },
  {
   "cell_type": "code",
   "execution_count": 4,
   "id": "603516f6",
   "metadata": {},
   "outputs": [],
   "source": [
    "import seaborn as sns\n",
    "import matplotlib.pyplot as plt\n",
    "from scipy.stats import pearsonr, kde, gaussian_kde\n",
    "import matplotlib\n",
    "from matplotlib import rc\n",
    "\n",
    "import pandas as pd"
   ]
  },
  {
   "cell_type": "code",
   "execution_count": 5,
   "id": "6c6d06be",
   "metadata": {},
   "outputs": [],
   "source": [
    "\n",
    "\n",
    "plt.rcParams['font.family'] = 'serif'\n",
    "#plt.rcParams['text.usetex'] = True\n",
    "plt.rcParams['text.usetex'] = False\n",
    "# plt.rcParams['font.family'] = 'serif'\n",
    "# plt.rcParams['font.serif'] = ['Times New Roman']\n",
    "\n",
    "# plt.rcParams['font.monospace'] = 'Ubuntu Mono'\n",
    "plt.rcParams['font.size'] = 26\n",
    "plt.rcParams['axes.labelsize'] = 26\n",
    "plt.rcParams[\"axes.labelweight\"] = \"bold\"\n",
    "plt.rcParams['axes.titlesize'] = 26\n",
    "plt.rcParams['axes.titleweight'] = 'bold'\n",
    "plt.rcParams['xtick.labelsize'] = 16\n",
    "plt.rcParams['ytick.labelsize'] = 16\n",
    "plt.rcParams['legend.fontsize'] = 18\n"
   ]
  },
  {
   "cell_type": "markdown",
   "id": "dc0404cb",
   "metadata": {},
   "source": [
    "# Load / Process Data"
   ]
  },
  {
   "cell_type": "code",
   "execution_count": 7,
   "id": "0750868d",
   "metadata": {},
   "outputs": [],
   "source": [
    "RECALL=-3\n",
    "PRECISION=-1\n",
    "\n",
    "TRANSLATOR=\"opus-mt\"\n",
    "SRC_LANG=\"en\""
   ]
  },
  {
   "cell_type": "code",
   "execution_count": 8,
   "id": "c1aafcb8",
   "metadata": {},
   "outputs": [],
   "source": [
    "def load_old_tokens_dict(tokens_file):\n",
    "    with open(tokens_file, \"r\") as f:\n",
    "        tokens_str = (f.readlines())[0]\n",
    "    tokens_str = tokens_str.replace(\"'\", \"\\\"\")\n",
    "    tokens_dict = json.loads(tokens_str)\n",
    "    \n",
    "    if 'worker' in tokens_dict:\n",
    "        tokens_dict.pop('worker')\n",
    "        \n",
    "    return tokens_dict\n",
    "\n",
    "\n",
    "def create_tokens_dict(variants_file, translator, src_lang, tgt_lang):\n",
    "    tokens_dict = defaultdict(dict)\n",
    "    tokenizer = MarianTokenizer.from_pretrained(f\"Helsinki-NLP/{translator}-{src_lang}-{tgt_lang}\")\n",
    "    \n",
    "    with open(variants_file, 'r') as var_json:\n",
    "        variants_dict = json.load(var_json)\n",
    "    \n",
    "    for prof_gender, variants in variants_dict.items():\n",
    "        prof, gender = prof_gender.split('-')\n",
    "        gender = gender.capitalize()\n",
    "        for v_idx, var in enumerate(variants):\n",
    "            with tokenizer.as_target_tokenizer():\n",
    "                tokenized = tokenizer(var)\n",
    "                num_tokens = len(tokenized['input_ids']) - 1\n",
    "            \n",
    "            tokens_dict[f\"{prof}-{str(v_idx)}\"][gender] = num_tokens\n",
    "    return tokens_dict\n"
   ]
  },
  {
   "cell_type": "code",
   "execution_count": 11,
   "id": "d538b214",
   "metadata": {},
   "outputs": [],
   "source": [
    "tokens_dict_he = create_tokens_dict(\"../data/wino_mt/he_variants.json\",TRANSLATOR, SRC_LANG, \"he\")\n",
    "tokens_dict_de = create_tokens_dict(\"../data/wino_mt/de_variants.json\",TRANSLATOR, SRC_LANG, \"de\")"
   ]
  },
  {
   "cell_type": "code",
   "execution_count": 120,
   "id": "441cd88c",
   "metadata": {},
   "outputs": [],
   "source": [
    "with open(\"../data/male_stereotype\",\"r\") as f:\n",
    "    male_stereotype = f.readlines()\n",
    "    male_stereotype = {i.strip().lower() for i in male_stereotype}"
   ]
  },
  {
   "cell_type": "code",
   "execution_count": 121,
   "id": "789ffaf4",
   "metadata": {},
   "outputs": [
    {
     "data": {
      "text/plain": [
       "{'analyst',\n",
       " 'carpenter',\n",
       " 'ceo',\n",
       " 'chief',\n",
       " 'construction worker',\n",
       " 'cook',\n",
       " 'developer',\n",
       " 'driver',\n",
       " 'farmer',\n",
       " 'guard',\n",
       " 'janitor',\n",
       " 'laborer',\n",
       " 'lawyer',\n",
       " 'manager',\n",
       " 'mechanic',\n",
       " 'mover',\n",
       " 'physician',\n",
       " 'salesperson',\n",
       " 'sheriff',\n",
       " 'supervisor'}"
      ]
     },
     "execution_count": 121,
     "metadata": {},
     "output_type": "execute_result"
    }
   ],
   "source": [
    "male_stereotype"
   ]
  },
  {
   "cell_type": "markdown",
   "id": "0bf6d406",
   "metadata": {},
   "source": [
    "# Create Plots"
   ]
  },
  {
   "cell_type": "code",
   "execution_count": 161,
   "id": "bb89a3fc",
   "metadata": {},
   "outputs": [],
   "source": [
    "def graph_5_delta_g(results_file,tokens_dict,lang):\n",
    "    with open(results_file, \"r\") as f:\n",
    "        lines = f.readlines()\n",
    "        recalls_str = lines[RECALL]\n",
    "        recalls_str = recalls_str.replace(\"'\", \"\\\"\")\n",
    "        recalls_dict = json.loads(recalls_str)\n",
    "\n",
    "        precisions_str = lines[PRECISION]\n",
    "        precisions_str = precisions_str.replace(\"'\", \"\\\"\")\n",
    "        precisions_dict = json.loads(precisions_str)\n",
    "\n",
    "    professions = list(tokens_dict.keys())\n",
    "    delta_t_dict = dict()\n",
    "    \n",
    "    for p in professions:\n",
    "        delta_t_dict[p] = tokens_dict[p]['Male'] - tokens_dict[p]['Female']\n",
    "    delta_t_dict = dict(sorted(delta_t_dict.items(), key=lambda item: item[1]))\n",
    "\n",
    "\n",
    "    x = []\n",
    "    y = []\n",
    "    \n",
    "    data = pd.DataFrame({\"Delta T\": [], \"Delta G\": []})\n",
    "\n",
    "    for prof, delta_t in delta_t_dict.items():\n",
    "        prof = prof.lower()\n",
    "        if prof in recalls_dict and prof in precisions_dict:\n",
    "            r_m,r_f=recalls_dict[prof]['male_recall'],recalls_dict[prof]['female_recall']\n",
    "            p_m,p_f=precisions_dict[prof]['male_precision'],precisions_dict[prof]['female_precision']\n",
    "            if r_m ==0 and p_m == 0:\n",
    "                male_f1 = 0\n",
    "            else:\n",
    "                male_f1= 2 * (r_m*p_m)/(r_m+p_m)\n",
    "    \n",
    "            if r_f ==0 and p_f == 0:\n",
    "                female_f1 = 0\n",
    "            else:\n",
    "                female_f1= 2 * (r_f*p_f)/(r_f+p_f)\n",
    "                \n",
    "            data = data.append({\"Delta T\": delta_t, \"Delta G\": male_f1 - female_f1}, ignore_index=True)\n",
    "\n",
    "\n",
    "    f, ax = plt.subplots(figsize=(7, 6))\n",
    "\n",
    "    sns.boxplot(\n",
    "        data=data, x=\"Delta T\", y=\"Delta G\",\n",
    "        orient=\"v\",\n",
    "        notch=False, showcaps=False, showmeans=True,\n",
    "        boxprops={\"facecolor\": (.4, .6, .8, .5)},\n",
    "        medianprops={\"color\": \"coral\"})\n",
    "    sns.stripplot(x=\"Delta T\", y=\"Delta G\", data=data,\n",
    "              size=4, color=\".3\", linewidth=0)\n",
    "    \n",
    "#     z = np.polyfit(data['Delta T'], data['Delta G'], 1)\n",
    "#     p = np.poly1d(z)\n",
    "#     ax.plot(data['Delta T'] + len(data['Delta T'].unique())- 1, p(data['Delta T']), \"r--\")\n",
    "\n",
    "    # Tweak the visual presentation\n",
    "    ax.yaxis.grid(True)\n",
    "    sns.despine(trim=False)\n",
    "    \n",
    "    plt.tight_layout()\n",
    "    plt.savefig(f'../graphs/graph_5_{lang}_delta_g.pdf')\n",
    "    plt.show()\n",
    "    \n",
    "    print(\"correlation\")\n",
    "    print(data.corr())\n"
   ]
  },
  {
   "cell_type": "code",
   "execution_count": 162,
   "id": "9b3f1d15",
   "metadata": {},
   "outputs": [
    {
     "data": {
      "image/png": "[encoded data removed]",
      "text/plain": [
       "<Figure size 504x432 with 1 Axes>"
      ]
     },
     "metadata": {
      "needs_background": "light"
     },
     "output_type": "display_data"
    },
    {
     "name": "stdout",
     "output_type": "stream",
     "text": [
      "correlation\n",
      "          Delta T   Delta G\n",
      "Delta T  1.000000 -0.109746\n",
      "Delta G -0.109746  1.000000\n"
     ]
    }
   ],
   "source": [
    "graph_5_delta_g(\"../data/he_results.txt\", tokens_dict_he,\"Hebrew\")"
   ]
  },
  {
   "cell_type": "code",
   "execution_count": 163,
   "id": "fe845240",
   "metadata": {},
   "outputs": [
    {
     "data": {
      "image/png": "[encoded data removed]",
      "text/plain": [
       "<Figure size 504x432 with 1 Axes>"
      ]
     },
     "metadata": {
      "needs_background": "light"
     },
     "output_type": "display_data"
    },
    {
     "name": "stdout",
     "output_type": "stream",
     "text": [
      "correlation\n",
      "          Delta T   Delta G\n",
      "Delta T  1.000000 -0.249129\n",
      "Delta G -0.249129  1.000000\n"
     ]
    }
   ],
   "source": [
    "graph_5_delta_g(\"../data/de_results.txt\", tokens_dict_de,\"German\")"
   ]
  },
  {
   "cell_type": "code",
   "execution_count": 164,
   "id": "598d6003",
   "metadata": {},
   "outputs": [],
   "source": [
    "def graph_5_delta_s(results_file,tokens_dict,lang, male_stereotype):\n",
    "    with open(results_file, \"r\") as f:\n",
    "        lines = f.readlines()\n",
    "        recalls_str = lines[RECALL]\n",
    "        recalls_str = recalls_str.replace(\"'\", \"\\\"\")\n",
    "        recalls_dict = json.loads(recalls_str)\n",
    "\n",
    "        precisions_str = lines[PRECISION]\n",
    "        precisions_str = precisions_str.replace(\"'\", \"\\\"\")\n",
    "        precisions_dict = json.loads(precisions_str)\n",
    "\n",
    "    professions = list(tokens_dict.keys())\n",
    "    delta_t_dict = dict()\n",
    "    \n",
    "    for p in professions:\n",
    "        if p.split('-')[0] in male_stereotype:\n",
    "            delta_t_dict[p] = tokens_dict[p]['Male'] - tokens_dict[p]['Female']\n",
    "        else:\n",
    "            delta_t_dict[p] = tokens_dict[p]['Female'] - tokens_dict[p]['Male']\n",
    "    delta_t_dict = dict(sorted(delta_t_dict.items(), key=lambda item: item[1]))\n",
    "\n",
    "\n",
    "\n",
    "    data = pd.DataFrame({\"Delta T\": [], \"Delta S\": []})\n",
    "\n",
    "    for prof, delta_t in delta_t_dict.items():\n",
    "        prof = prof.lower()\n",
    "        if prof in recalls_dict and prof in precisions_dict:\n",
    "            r_m,r_f=recalls_dict[prof]['male_recall'],recalls_dict[prof]['female_recall']\n",
    "            p_m,p_f=precisions_dict[prof]['male_precision'],precisions_dict[prof]['female_precision']\n",
    "            if r_m ==0 and p_m == 0:\n",
    "                male_f1 = 0\n",
    "            else:\n",
    "                male_f1= 2 * (r_m*p_m)/(r_m+p_m)\n",
    "    \n",
    "            if r_f ==0 and p_f == 0:\n",
    "                female_f1 = 0\n",
    "            else:\n",
    "                female_f1= 2 * (r_f*p_f)/(r_f+p_f)\n",
    "            \n",
    "            if prof.split('-')[0] in male_stereotype:\n",
    "                \n",
    "                data = data.append({\"Delta T\": delta_t, \"Delta S\": male_f1 - female_f1}, ignore_index=True)\n",
    "            else:\n",
    "                data = data.append({\"Delta T\": delta_t, \"Delta S\": female_f1 - male_f1}, ignore_index=True)\n",
    "\n",
    "\n",
    "    f, ax = plt.subplots(figsize=(7, 6))\n",
    "\n",
    "    sns.boxplot(\n",
    "        data=data, x=\"Delta T\", y=\"Delta S\",\n",
    "        orient=\"v\",\n",
    "        notch=False, showcaps=False,showmeans=True,\n",
    "        boxprops={\"facecolor\": (.6, .8, .4, .5)},\n",
    "        medianprops={\"color\": \"coral\"})\n",
    "    sns.stripplot(x=\"Delta T\", y=\"Delta S\", data=data,\n",
    "              size=4, color=\".3\", linewidth=0)\n",
    "    \n",
    "#     z = np.polyfit(data['Delta T'], data['Delta G'], 1)\n",
    "#     p = np.poly1d(z)\n",
    "#     ax.plot(data['Delta T'] + len(data['Delta T'].unique())- 1, p(data['Delta T']), \"r--\")\n",
    "\n",
    "    # Tweak the visual presentation\n",
    "    ax.yaxis.grid(True)\n",
    "    sns.despine(trim=False)\n",
    "    \n",
    "    plt.tight_layout()\n",
    "    plt.savefig(f'../graphs/graph_5_{lang}_delta_s.pdf')\n",
    "    plt.show()\n",
    "    \n",
    "    print(\"correlation\")\n",
    "    print(data.corr())\n",
    "    \n"
   ]
  },
  {
   "cell_type": "code",
   "execution_count": 167,
   "id": "5d092d29",
   "metadata": {},
   "outputs": [
    {
     "data": {
      "image/png": "[encoded data removed]",
      "text/plain": [
       "<Figure size 504x432 with 1 Axes>"
      ]
     },
     "metadata": {
      "needs_background": "light"
     },
     "output_type": "display_data"
    },
    {
     "name": "stdout",
     "output_type": "stream",
     "text": [
      "correlation\n",
      "          Delta T   Delta S\n",
      "Delta T  1.000000 -0.414946\n",
      "Delta S -0.414946  1.000000\n"
     ]
    }
   ],
   "source": [
    "graph_5_delta_s(\"../data/he_results.txt\", tokens_dict_he,\"Hebrew\", male_stereotype)"
   ]
  },
  {
   "cell_type": "code",
   "execution_count": 166,
   "id": "3d70fbc7",
   "metadata": {},
   "outputs": [
    {
     "data": {
      "image/png": "[encoded data removed]",
      "text/plain": [
       "<Figure size 504x432 with 1 Axes>"
      ]
     },
     "metadata": {
      "needs_background": "light"
     },
     "output_type": "display_data"
    },
    {
     "name": "stdout",
     "output_type": "stream",
     "text": [
      "correlation\n",
      "          Delta T   Delta S\n",
      "Delta T  1.000000 -0.368684\n",
      "Delta S -0.368684  1.000000\n"
     ]
    }
   ],
   "source": [
    "graph_5_delta_s(\"../data/de_results.txt\", tokens_dict_de,\"German\", male_stereotype)"
   ]
  }
 ],
 "metadata": {
  "kernelspec": {
   "display_name": "Python 3",
   "language": "python",
   "name": "python3"
  },
  "language_info": {
   "codemirror_mode": {
    "name": "ipython",
    "version": 3
   },
   "file_extension": ".py",
   "mimetype": "text/x-python",
   "name": "python",
   "nbconvert_exporter": "python",
   "pygments_lexer": "ipython3",
   "version": "3.6.9"
  }
 },
 "nbformat": 4,
 "nbformat_minor": 5
}
