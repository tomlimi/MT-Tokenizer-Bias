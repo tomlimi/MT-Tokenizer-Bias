{
 "cells": [
  {
   "cell_type": "markdown",
   "id": "4e3d3b33",
   "metadata": {},
   "source": [
    "# Imports"
   ]
  },
  {
   "cell_type": "code",
   "execution_count": 66,
   "id": "80035b35",
   "metadata": {},
   "outputs": [],
   "source": [
    "from matplotlib import pyplot as plt\n",
    "import pandas as pd\n",
    "import seaborn as sns\n",
    "import os\n",
    "import numpy as np\n",
    "\n",
    "import json"
   ]
  },
  {
   "cell_type": "markdown",
   "id": "d976d465",
   "metadata": {},
   "source": [
    "# Loading data"
   ]
  },
  {
   "cell_type": "code",
   "execution_count": 139,
   "id": "16342fde",
   "metadata": {},
   "outputs": [],
   "source": [
    "def load_results(src_lang, tgt_lang):\n",
    "    json_fn = '../data/tatoeba/' + src_lang + '-' + tgt_lang + \"_results.json\"\n",
    "    with open(json_fn, 'r') as json_file:\n",
    "        results = json.load(json_file)\n",
    "        json_file.close()\n",
    "        \n",
    "    \n",
    "    return results\n",
    "\n",
    "def preprocess(results):\n",
    "    df = pd.DataFrame(results).transpose()\n",
    "    df = df.fillna(0)\n",
    "    df.index.name = 'word'\n",
    "    \n",
    "    df['characters'] = df.index.map(lambda w: len(w))\n",
    "    \n",
    "    noise = np.random.normal(0., 0.00001, [len(df)])\n",
    "    df['count_bins'] = pd.cut(df['count'], bins=[0,1,10,100,10000], labels=['1', '2-10', '10-100', '>100'])\n",
    "    df['characters_bins'] = pd.cut(df['characters'],bins=[0,5, 10, 15, 10000], labels=['<=5', '5-10', '10-15', '>15'])\n",
    "    df = df.sort_values(by=['count'])\n",
    "    \n",
    "    df['accuracy'] = df['correct'] / df['count']\n",
    "    return df\n",
    "    "
   ]
  },
  {
   "cell_type": "code",
   "execution_count": 140,
   "id": "0de7e3e3",
   "metadata": {},
   "outputs": [],
   "source": [
    "results_de = load_results(\"en\", \"de\")\n",
    "results_he = load_results(\"en\", \"he\")\n",
    "\n",
    "df_de = preprocess(results_de)\n",
    "df_he = preprocess(results_he)\n"
   ]
  },
  {
   "cell_type": "code",
   "execution_count": 141,
   "id": "75aaeef5",
   "metadata": {},
   "outputs": [
    {
     "data": {
      "text/plain": [
       "array([[<AxesSubplot:title={'center':'characters'}>,\n",
       "        <AxesSubplot:title={'center':'count'}>]], dtype=object)"
      ]
     },
     "execution_count": 141,
     "metadata": {},
     "output_type": "execute_result"
    },
    {
     "data": {
      "image/png": "[encoded data removed]",
      "text/plain": [
       "<Figure size 432x288 with 2 Axes>"
      ]
     },
     "metadata": {
      "needs_background": "light"
     },
     "output_type": "display_data"
    }
   ],
   "source": [
    "df_de.hist(column=['characters', 'count'], bins=30, log=True)"
   ]
  },
  {
   "cell_type": "code",
   "execution_count": 142,
   "id": "16e16e86",
   "metadata": {},
   "outputs": [
    {
     "data": {
      "text/plain": [
       "array([[<AxesSubplot:title={'center':'characters'}>,\n",
       "        <AxesSubplot:title={'center':'count'}>]], dtype=object)"
      ]
     },
     "execution_count": 142,
     "metadata": {},
     "output_type": "execute_result"
    },
    {
     "data": {
      "image/png": "[encoded data removed]",
      "text/plain": [
       "<Figure size 432x288 with 2 Axes>"
      ]
     },
     "metadata": {
      "needs_background": "light"
     },
     "output_type": "display_data"
    }
   ],
   "source": [
    "df_he.hist(column=['characters', 'count'], bins=30, log=True)"
   ]
  },
  {
   "cell_type": "code",
   "execution_count": 143,
   "id": "cd6d6c0e",
   "metadata": {},
   "outputs": [
    {
     "data": {
      "text/html": [
       "<div>\n",
       "<style scoped>\n",
       "    .dataframe tbody tr th:only-of-type {\n",
       "        vertical-align: middle;\n",
       "    }\n",
       "\n",
       "    .dataframe tbody tr th {\n",
       "        vertical-align: top;\n",
       "    }\n",
       "\n",
       "    .dataframe thead th {\n",
       "        text-align: right;\n",
       "    }\n",
       "</style>\n",
       "<table border=\"1\" class=\"dataframe\">\n",
       "  <thead>\n",
       "    <tr style=\"text-align: right;\">\n",
       "      <th></th>\n",
       "      <th>count</th>\n",
       "      <th>correct</th>\n",
       "      <th>tokens</th>\n",
       "      <th>characters</th>\n",
       "      <th>count_bins</th>\n",
       "      <th>characters_bins</th>\n",
       "      <th>accuracy</th>\n",
       "    </tr>\n",
       "    <tr>\n",
       "      <th>word</th>\n",
       "      <th></th>\n",
       "      <th></th>\n",
       "      <th></th>\n",
       "      <th></th>\n",
       "      <th></th>\n",
       "      <th></th>\n",
       "      <th></th>\n",
       "    </tr>\n",
       "  </thead>\n",
       "  <tbody>\n",
       "    <tr>\n",
       "      <th>Krieger</th>\n",
       "      <td>1.0</td>\n",
       "      <td>1.0</td>\n",
       "      <td>1.0</td>\n",
       "      <td>7</td>\n",
       "      <td>1</td>\n",
       "      <td>5-10</td>\n",
       "      <td>1.000000</td>\n",
       "    </tr>\n",
       "    <tr>\n",
       "      <th>Osmanischen</th>\n",
       "      <td>1.0</td>\n",
       "      <td>0.0</td>\n",
       "      <td>3.0</td>\n",
       "      <td>11</td>\n",
       "      <td>1</td>\n",
       "      <td>10-15</td>\n",
       "      <td>0.000000</td>\n",
       "    </tr>\n",
       "    <tr>\n",
       "      <th>Reihen</th>\n",
       "      <td>1.0</td>\n",
       "      <td>1.0</td>\n",
       "      <td>1.0</td>\n",
       "      <td>6</td>\n",
       "      <td>1</td>\n",
       "      <td>5-10</td>\n",
       "      <td>1.000000</td>\n",
       "    </tr>\n",
       "    <tr>\n",
       "      <th>Spalten</th>\n",
       "      <td>1.0</td>\n",
       "      <td>0.0</td>\n",
       "      <td>1.0</td>\n",
       "      <td>7</td>\n",
       "      <td>1</td>\n",
       "      <td>5-10</td>\n",
       "      <td>0.000000</td>\n",
       "    </tr>\n",
       "    <tr>\n",
       "      <th>Herunterladen</th>\n",
       "      <td>1.0</td>\n",
       "      <td>1.0</td>\n",
       "      <td>1.0</td>\n",
       "      <td>13</td>\n",
       "      <td>1</td>\n",
       "      <td>10-15</td>\n",
       "      <td>1.000000</td>\n",
       "    </tr>\n",
       "    <tr>\n",
       "      <th>...</th>\n",
       "      <td>...</td>\n",
       "      <td>...</td>\n",
       "      <td>...</td>\n",
       "      <td>...</td>\n",
       "      <td>...</td>\n",
       "      <td>...</td>\n",
       "      <td>...</td>\n",
       "    </tr>\n",
       "    <tr>\n",
       "      <th>und</th>\n",
       "      <td>939.0</td>\n",
       "      <td>923.0</td>\n",
       "      <td>1.0</td>\n",
       "      <td>3</td>\n",
       "      <td>&gt;100</td>\n",
       "      <td>&lt;=5</td>\n",
       "      <td>0.982961</td>\n",
       "    </tr>\n",
       "    <tr>\n",
       "      <th>das</th>\n",
       "      <td>965.0</td>\n",
       "      <td>808.0</td>\n",
       "      <td>1.0</td>\n",
       "      <td>3</td>\n",
       "      <td>&gt;100</td>\n",
       "      <td>&lt;=5</td>\n",
       "      <td>0.837306</td>\n",
       "    </tr>\n",
       "    <tr>\n",
       "      <th>du</th>\n",
       "      <td>1217.0</td>\n",
       "      <td>896.0</td>\n",
       "      <td>1.0</td>\n",
       "      <td>2</td>\n",
       "      <td>&gt;100</td>\n",
       "      <td>&lt;=5</td>\n",
       "      <td>0.736237</td>\n",
       "    </tr>\n",
       "    <tr>\n",
       "      <th>Sie</th>\n",
       "      <td>1259.0</td>\n",
       "      <td>807.0</td>\n",
       "      <td>1.0</td>\n",
       "      <td>3</td>\n",
       "      <td>&gt;100</td>\n",
       "      <td>&lt;=5</td>\n",
       "      <td>0.640985</td>\n",
       "    </tr>\n",
       "    <tr>\n",
       "      <th>Tom</th>\n",
       "      <td>3782.0</td>\n",
       "      <td>3741.0</td>\n",
       "      <td>1.0</td>\n",
       "      <td>3</td>\n",
       "      <td>&gt;100</td>\n",
       "      <td>&lt;=5</td>\n",
       "      <td>0.989159</td>\n",
       "    </tr>\n",
       "  </tbody>\n",
       "</table>\n",
       "<p>6356 rows × 7 columns</p>\n",
       "</div>"
      ],
      "text/plain": [
       "                count  correct  tokens  characters count_bins characters_bins  \\\n",
       "word                                                                            \n",
       "Krieger           1.0      1.0     1.0           7          1            5-10   \n",
       "Osmanischen       1.0      0.0     3.0          11          1           10-15   \n",
       "Reihen            1.0      1.0     1.0           6          1            5-10   \n",
       "Spalten           1.0      0.0     1.0           7          1            5-10   \n",
       "Herunterladen     1.0      1.0     1.0          13          1           10-15   \n",
       "...               ...      ...     ...         ...        ...             ...   \n",
       "und             939.0    923.0     1.0           3       >100             <=5   \n",
       "das             965.0    808.0     1.0           3       >100             <=5   \n",
       "du             1217.0    896.0     1.0           2       >100             <=5   \n",
       "Sie            1259.0    807.0     1.0           3       >100             <=5   \n",
       "Tom            3782.0   3741.0     1.0           3       >100             <=5   \n",
       "\n",
       "               accuracy  \n",
       "word                     \n",
       "Krieger        1.000000  \n",
       "Osmanischen    0.000000  \n",
       "Reihen         1.000000  \n",
       "Spalten        0.000000  \n",
       "Herunterladen  1.000000  \n",
       "...                 ...  \n",
       "und            0.982961  \n",
       "das            0.837306  \n",
       "du             0.736237  \n",
       "Sie            0.640985  \n",
       "Tom            0.989159  \n",
       "\n",
       "[6356 rows x 7 columns]"
      ]
     },
     "execution_count": 143,
     "metadata": {},
     "output_type": "execute_result"
    }
   ],
   "source": [
    "df_de"
   ]
  },
  {
   "cell_type": "code",
   "execution_count": 144,
   "id": "3c1edca4",
   "metadata": {},
   "outputs": [
    {
     "data": {
      "text/html": [
       "<div>\n",
       "<style scoped>\n",
       "    .dataframe tbody tr th:only-of-type {\n",
       "        vertical-align: middle;\n",
       "    }\n",
       "\n",
       "    .dataframe tbody tr th {\n",
       "        vertical-align: top;\n",
       "    }\n",
       "\n",
       "    .dataframe thead th {\n",
       "        text-align: right;\n",
       "    }\n",
       "</style>\n",
       "<table border=\"1\" class=\"dataframe\">\n",
       "  <thead>\n",
       "    <tr style=\"text-align: right;\">\n",
       "      <th></th>\n",
       "      <th>count</th>\n",
       "      <th>correct</th>\n",
       "      <th>tokens</th>\n",
       "      <th>characters</th>\n",
       "      <th>count_bins</th>\n",
       "      <th>characters_bins</th>\n",
       "      <th>accuracy</th>\n",
       "    </tr>\n",
       "    <tr>\n",
       "      <th>word</th>\n",
       "      <th></th>\n",
       "      <th></th>\n",
       "      <th></th>\n",
       "      <th></th>\n",
       "      <th></th>\n",
       "      <th></th>\n",
       "      <th></th>\n",
       "    </tr>\n",
       "  </thead>\n",
       "  <tbody>\n",
       "    <tr>\n",
       "      <th>יומי</th>\n",
       "      <td>1.0</td>\n",
       "      <td>1.0</td>\n",
       "      <td>1.0</td>\n",
       "      <td>4</td>\n",
       "      <td>1</td>\n",
       "      <td>&lt;=5</td>\n",
       "      <td>1.000000</td>\n",
       "    </tr>\n",
       "    <tr>\n",
       "      <th>נורא</th>\n",
       "      <td>1.0</td>\n",
       "      <td>1.0</td>\n",
       "      <td>1.0</td>\n",
       "      <td>4</td>\n",
       "      <td>1</td>\n",
       "      <td>&lt;=5</td>\n",
       "      <td>1.000000</td>\n",
       "    </tr>\n",
       "    <tr>\n",
       "      <th>אי</th>\n",
       "      <td>1.0</td>\n",
       "      <td>1.0</td>\n",
       "      <td>1.0</td>\n",
       "      <td>2</td>\n",
       "      <td>1</td>\n",
       "      <td>&lt;=5</td>\n",
       "      <td>1.000000</td>\n",
       "    </tr>\n",
       "    <tr>\n",
       "      <th>רקובה</th>\n",
       "      <td>1.0</td>\n",
       "      <td>1.0</td>\n",
       "      <td>2.0</td>\n",
       "      <td>5</td>\n",
       "      <td>1</td>\n",
       "      <td>&lt;=5</td>\n",
       "      <td>1.000000</td>\n",
       "    </tr>\n",
       "    <tr>\n",
       "      <th>עשרים</th>\n",
       "      <td>1.0</td>\n",
       "      <td>0.0</td>\n",
       "      <td>1.0</td>\n",
       "      <td>5</td>\n",
       "      <td>1</td>\n",
       "      <td>&lt;=5</td>\n",
       "      <td>0.000000</td>\n",
       "    </tr>\n",
       "    <tr>\n",
       "      <th>...</th>\n",
       "      <td>...</td>\n",
       "      <td>...</td>\n",
       "      <td>...</td>\n",
       "      <td>...</td>\n",
       "      <td>...</td>\n",
       "      <td>...</td>\n",
       "      <td>...</td>\n",
       "    </tr>\n",
       "    <tr>\n",
       "      <th>היא</th>\n",
       "      <td>308.0</td>\n",
       "      <td>301.0</td>\n",
       "      <td>1.0</td>\n",
       "      <td>3</td>\n",
       "      <td>&gt;100</td>\n",
       "      <td>&lt;=5</td>\n",
       "      <td>0.977273</td>\n",
       "    </tr>\n",
       "    <tr>\n",
       "      <th>מה</th>\n",
       "      <td>335.0</td>\n",
       "      <td>322.0</td>\n",
       "      <td>1.0</td>\n",
       "      <td>2</td>\n",
       "      <td>&gt;100</td>\n",
       "      <td>&lt;=5</td>\n",
       "      <td>0.961194</td>\n",
       "    </tr>\n",
       "    <tr>\n",
       "      <th>זה</th>\n",
       "      <td>413.0</td>\n",
       "      <td>381.0</td>\n",
       "      <td>1.0</td>\n",
       "      <td>2</td>\n",
       "      <td>&gt;100</td>\n",
       "      <td>&lt;=5</td>\n",
       "      <td>0.922518</td>\n",
       "    </tr>\n",
       "    <tr>\n",
       "      <th>אתה</th>\n",
       "      <td>414.0</td>\n",
       "      <td>365.0</td>\n",
       "      <td>1.0</td>\n",
       "      <td>3</td>\n",
       "      <td>&gt;100</td>\n",
       "      <td>&lt;=5</td>\n",
       "      <td>0.881643</td>\n",
       "    </tr>\n",
       "    <tr>\n",
       "      <th>תום</th>\n",
       "      <td>1101.0</td>\n",
       "      <td>1030.0</td>\n",
       "      <td>1.0</td>\n",
       "      <td>3</td>\n",
       "      <td>&gt;100</td>\n",
       "      <td>&lt;=5</td>\n",
       "      <td>0.935513</td>\n",
       "    </tr>\n",
       "  </tbody>\n",
       "</table>\n",
       "<p>2894 rows × 7 columns</p>\n",
       "</div>"
      ],
      "text/plain": [
       "        count  correct  tokens  characters count_bins characters_bins  \\\n",
       "word                                                                    \n",
       "יומי      1.0      1.0     1.0           4          1             <=5   \n",
       "נורא      1.0      1.0     1.0           4          1             <=5   \n",
       "אי        1.0      1.0     1.0           2          1             <=5   \n",
       "רקובה     1.0      1.0     2.0           5          1             <=5   \n",
       "עשרים     1.0      0.0     1.0           5          1             <=5   \n",
       "...       ...      ...     ...         ...        ...             ...   \n",
       "היא     308.0    301.0     1.0           3       >100             <=5   \n",
       "מה      335.0    322.0     1.0           2       >100             <=5   \n",
       "זה      413.0    381.0     1.0           2       >100             <=5   \n",
       "אתה     414.0    365.0     1.0           3       >100             <=5   \n",
       "תום    1101.0   1030.0     1.0           3       >100             <=5   \n",
       "\n",
       "       accuracy  \n",
       "word             \n",
       "יומי   1.000000  \n",
       "נורא   1.000000  \n",
       "אי     1.000000  \n",
       "רקובה  1.000000  \n",
       "עשרים  0.000000  \n",
       "...         ...  \n",
       "היא    0.977273  \n",
       "מה     0.961194  \n",
       "זה     0.922518  \n",
       "אתה    0.881643  \n",
       "תום    0.935513  \n",
       "\n",
       "[2894 rows x 7 columns]"
      ]
     },
     "execution_count": 144,
     "metadata": {},
     "output_type": "execute_result"
    }
   ],
   "source": [
    "df_he"
   ]
  },
  {
   "cell_type": "markdown",
   "id": "5e7738be",
   "metadata": {},
   "source": [
    "# Result Plots German"
   ]
  },
  {
   "cell_type": "code",
   "execution_count": 145,
   "id": "250d5405",
   "metadata": {},
   "outputs": [
    {
     "data": {
      "image/png": "[encoded data removed]",
      "text/plain": [
       "<Figure size 864x576 with 1 Axes>"
      ]
     },
     "metadata": {
      "needs_background": "light"
     },
     "output_type": "display_data"
    }
   ],
   "source": [
    "g = sns.catplot(x=\"tokens\", y=\"accuracy\",\n",
    "                data=df_de, kind=\"bar\",\n",
    "                height=8, aspect=1.5)\n",
    "fig = g.fig\n",
    "axes = g.axes\n",
    "\n",
    "fig.suptitle('German: Lexical accuracy of translation vs. number of tokens ', y=1.1)\n",
    "#axes[0,0].xaxis.label.set_visible(False)\n",
    "#axes[0,2].xaxis.label.set_visible(False)\n",
    "plt.tight_layout()\n",
    "# plt.savefig(os.path.join('figures','diverse_script_barplot_d6' + '.pdf'), dpi=300)\n",
    "\n",
    "plt.show()"
   ]
  },
  {
   "cell_type": "code",
   "execution_count": 146,
   "id": "1aa3976c",
   "metadata": {},
   "outputs": [
    {
     "data": {
      "image/png": "[encoded data removed]",
      "text/plain": [
       "<Figure size 915.875x576 with 1 Axes>"
      ]
     },
     "metadata": {
      "needs_background": "light"
     },
     "output_type": "display_data"
    }
   ],
   "source": [
    "g = sns.catplot(x=\"count_bins\", y=\"accuracy\",\n",
    "                hue=\"tokens\",\n",
    "                data=df_de, kind=\"bar\",\n",
    "                height=8, aspect=1.5, legend=True)\n",
    "fig = g.fig\n",
    "axes = g.axes\n",
    "fig.suptitle('German: Lexical accuracy of translation vs. number of tokens and word count', y=1.1)\n",
    "#axes[0,0].xaxis.label.set_visible(False)\n",
    "#axes[0,2].xaxis.label.set_visible(False)\n",
    "plt.tight_layout()\n",
    "# plt.savefig(os.path.join('figures','diverse_script_barplot_d6' + '.pdf'), dpi=300)\n",
    "\n",
    "plt.show()"
   ]
  },
  {
   "cell_type": "code",
   "execution_count": 147,
   "id": "6abeb997",
   "metadata": {},
   "outputs": [
    {
     "data": {
      "image/png": "[encoded data removed]",
      "text/plain": [
       "<Figure size 915.875x576 with 1 Axes>"
      ]
     },
     "metadata": {
      "needs_background": "light"
     },
     "output_type": "display_data"
    }
   ],
   "source": [
    "g = sns.catplot(x=\"characters_bins\", y=\"accuracy\",\n",
    "                hue=\"tokens\",\n",
    "                data=df_de, kind=\"bar\",\n",
    "                height=8, aspect=1.5, legend=True)\n",
    "fig = g.fig\n",
    "axes = g.axes\n",
    "axes[0,0].legend(ncol=4,loc='lower center', bbox_to_anchor=(.5, -0.45))\n",
    "fig.suptitle('German: Lexical accuracy of translation vs. number of tokens and number of tokens', y=1.1)\n",
    "#axes[0,0].xaxis.label.set_visible(False)\n",
    "#axes[0,2].xaxis.label.set_visible(False)\n",
    "plt.tight_layout()\n",
    "# plt.savefig(os.path.join('figures','diverse_script_barplot_d6' + '.pdf'), dpi=300)\n",
    "\n",
    "plt.show()"
   ]
  },
  {
   "cell_type": "markdown",
   "id": "3c126a1b",
   "metadata": {},
   "source": [
    "# Result Plots Hebrew"
   ]
  },
  {
   "cell_type": "code",
   "execution_count": 149,
   "id": "b037adcd",
   "metadata": {},
   "outputs": [
    {
     "data": {
      "image/png": "[encoded data removed]",
      "text/plain": [
       "<Figure size 864x576 with 1 Axes>"
      ]
     },
     "metadata": {
      "needs_background": "light"
     },
     "output_type": "display_data"
    }
   ],
   "source": [
    "g = sns.catplot(x=\"tokens\", y=\"accuracy\",\n",
    "                data=df_he, kind=\"bar\",\n",
    "                height=8, aspect=1.5)\n",
    "fig = g.fig\n",
    "axes = g.axes\n",
    "\n",
    "fig.suptitle('Hebrew Lexical accuracy of translation vs. number of tokens ', y=1.1)\n",
    "#axes[0,0].xaxis.label.set_visible(False)\n",
    "#axes[0,2].xaxis.label.set_visible(False)\n",
    "plt.tight_layout()\n",
    "# plt.savefig(os.path.join('figures','diverse_script_barplot_d6' + '.pdf'), dpi=300)\n",
    "\n",
    "plt.show()"
   ]
  },
  {
   "cell_type": "code",
   "execution_count": 150,
   "id": "846bb6f8",
   "metadata": {},
   "outputs": [
    {
     "data": {
      "image/png": "[encoded data removed]",
      "text/plain": [
       "<Figure size 915.875x576 with 1 Axes>"
      ]
     },
     "metadata": {
      "needs_background": "light"
     },
     "output_type": "display_data"
    }
   ],
   "source": [
    "g = sns.catplot(x=\"count_bins\", y=\"accuracy\",\n",
    "                hue=\"tokens\",\n",
    "                data=df_he, kind=\"bar\",\n",
    "                height=8, aspect=1.5, legend=True)\n",
    "fig = g.fig\n",
    "axes = g.axes\n",
    "fig.suptitle('Hebrew: Lexical accuracy of translation vs. number of tokens and word count', y=1.1)\n",
    "#axes[0,0].xaxis.label.set_visible(False)\n",
    "#axes[0,2].xaxis.label.set_visible(False)\n",
    "plt.tight_layout()\n",
    "# plt.savefig(os.path.join('figures','diverse_script_barplot_d6' + '.pdf'), dpi=300)\n",
    "\n",
    "plt.show()"
   ]
  },
  {
   "cell_type": "code",
   "execution_count": 151,
   "id": "21f97767",
   "metadata": {},
   "outputs": [
    {
     "data": {
      "image/png": "[encoded data removed]",
      "text/plain": [
       "<Figure size 915.875x576 with 1 Axes>"
      ]
     },
     "metadata": {
      "needs_background": "light"
     },
     "output_type": "display_data"
    }
   ],
   "source": [
    "g = sns.catplot(x=\"characters_bins\", y=\"accuracy\",\n",
    "                hue=\"tokens\",\n",
    "                data=df_he, kind=\"bar\",\n",
    "                height=8, aspect=1.5, legend=True)\n",
    "fig = g.fig\n",
    "axes = g.axes\n",
    "fig.suptitle('Hebrew: Lexical accuracy of translation vs. number of tokens and word count', y=1.1)\n",
    "#axes[0,0].xaxis.label.set_visible(False)\n",
    "#axes[0,2].xaxis.label.set_visible(False)\n",
    "plt.tight_layout()\n",
    "# plt.savefig(os.path.join('figures','diverse_script_barplot_d6' + '.pdf'), dpi=300)\n",
    "\n",
    "plt.show()"
   ]
  }
 ],
 "metadata": {
  "kernelspec": {
   "display_name": "Python 3",
   "language": "python",
   "name": "python3"
  },
  "language_info": {
   "codemirror_mode": {
    "name": "ipython",
    "version": 3
   },
   "file_extension": ".py",
   "mimetype": "text/x-python",
   "name": "python",
   "nbconvert_exporter": "python",
   "pygments_lexer": "ipython3",
   "version": "3.6.9"
  }
 },
 "nbformat": 4,
 "nbformat_minor": 5
}
