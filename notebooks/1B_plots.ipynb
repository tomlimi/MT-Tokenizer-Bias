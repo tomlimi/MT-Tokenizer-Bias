{
 "cells": [
  {
   "cell_type": "markdown",
   "id": "e34d63c6",
   "metadata": {},
   "source": [
    "# Imports"
   ]
  },
  {
   "cell_type": "code",
   "execution_count": 2,
   "id": "bb388092",
   "metadata": {},
   "outputs": [],
   "source": [
    "from matplotlib import pyplot as plt\n",
    "import pandas as pd\n",
    "import seaborn as sns\n",
    "import os\n",
    "import numpy as np\n",
    "\n",
    "import json\n",
    "\n",
    "from transformers import MarianTokenizer, AutoTokenizer\n",
    "\n",
    "# from transformers import AutoModelForSeq2SeqLM, AutoTokenizer\n",
    "import numpy as np\n",
    "import matplotlib.pyplot as plt\n",
    "import collections"
   ]
  },
  {
   "cell_type": "markdown",
   "id": "39063baa",
   "metadata": {},
   "source": [
    "# Defining plot styles"
   ]
  },
  {
   "cell_type": "code",
   "execution_count": 7,
   "id": "d9965d4c",
   "metadata": {},
   "outputs": [],
   "source": [
    "import seaborn as sns\n",
    "import matplotlib.pyplot as plt\n",
    "from scipy.stats import pearsonr, kde, gaussian_kde\n",
    "import matplotlib\n",
    "from matplotlib import rc\n",
    "\n",
    "import pandas as pd"
   ]
  },
  {
   "cell_type": "code",
   "execution_count": 8,
   "id": "1d57619a",
   "metadata": {},
   "outputs": [],
   "source": [
    "\n",
    "\n",
    "plt.rcParams['font.family'] = 'serif'\n",
    "#plt.rcParams['text.usetex'] = True\n",
    "plt.rcParams['text.usetex'] = False\n",
    "# plt.rcParams['font.family'] = 'serif'\n",
    "# plt.rcParams['font.serif'] = ['Times New Roman']\n",
    "\n",
    "# plt.rcParams['font.monospace'] = 'Ubuntu Mono'\n",
    "plt.rcParams['font.size'] = 26\n",
    "plt.rcParams['axes.labelsize'] = 26\n",
    "plt.rcParams[\"axes.labelweight\"] = \"bold\"\n",
    "plt.rcParams['axes.titlesize'] = 26\n",
    "plt.rcParams['axes.titleweight'] = 'bold'\n",
    "plt.rcParams['xtick.labelsize'] = 16\n",
    "plt.rcParams['ytick.labelsize'] = 16\n",
    "plt.rcParams['legend.fontsize'] = 18\n"
   ]
  },
  {
   "cell_type": "markdown",
   "id": "ebef0624",
   "metadata": {},
   "source": [
    "# Load / Process data"
   ]
  },
  {
   "cell_type": "code",
   "execution_count": 1,
   "id": "a8fd0ad7",
   "metadata": {},
   "outputs": [
    {
     "ename": "NameError",
     "evalue": "name 'MarianTokenizer' is not defined",
     "output_type": "error",
     "traceback": [
      "\u001b[0;31m---------------------------------------------------------------------------\u001b[0m",
      "\u001b[0;31mNameError\u001b[0m                                 Traceback (most recent call last)",
      "Cell \u001b[0;32mIn [1], line 1\u001b[0m\n\u001b[0;32m----> 1\u001b[0m tokenizer_de \u001b[38;5;241m=\u001b[39m MarianTokenizer\u001b[38;5;241m.\u001b[39mfrom_pretrained(\u001b[38;5;124m\"\u001b[39m\u001b[38;5;124mfacebook/mbart-large-50-many-to-many-mmt\u001b[39m\u001b[38;5;124m\"\u001b[39m)\n\u001b[1;32m      2\u001b[0m tokenizer_he \u001b[38;5;241m=\u001b[39m MarianTokenizer\u001b[38;5;241m.\u001b[39mfrom_pretrained(\u001b[38;5;124m\"\u001b[39m\u001b[38;5;124mfacebook/mbart-large-50-many-to-many-mmt\u001b[39m\u001b[38;5;124m\"\u001b[39m)\n",
      "\u001b[0;31mNameError\u001b[0m: name 'MarianTokenizer' is not defined"
     ]
    }
   ],
   "source": [
    "tokenizer_de = MarianTokenizer.from_pretrained(\"Helsinki-NLP/opus-mt-en-de\")\n",
    "tokenizer_he = MarianTokenizer.from_pretrained(\"Helsinki-NLP/opus-mt-en-he\")\n"
   ]
  },
  {
   "cell_type": "code",
   "execution_count": 14,
   "id": "94ffd1da",
   "metadata": {},
   "outputs": [],
   "source": [
    "def get_num_of_tokens_per_gender(professions, translations_dict, tokenizer, target_file):\n",
    "    male_count, male_tokens, female_count, female_tokens = 0, 0, 0, 0\n",
    "    male_num_of_tokens_map, female_num_of_tokens_map = {}, {}\n",
    "    for profession in professions:\n",
    "        m, f = list(translations_dict[profession]['Male']), list(translations_dict[profession]['Female'])\n",
    "        with tokenizer.as_target_tokenizer():\n",
    "\n",
    "            for mp in m:\n",
    "                male_count += 1\n",
    "                male_num_of_tokens = len(tokenizer(mp)['input_ids'][:-1])\n",
    "                male_tokens += male_num_of_tokens\n",
    "                if male_num_of_tokens not in male_num_of_tokens_map:\n",
    "                    male_num_of_tokens_map[male_num_of_tokens] = 1\n",
    "                else:\n",
    "                    male_num_of_tokens_map[male_num_of_tokens] += 1\n",
    "            for fp in f:\n",
    "                female_count += 1\n",
    "                female_num_of_tokens = len(tokenizer(fp)['input_ids'][:-1])\n",
    "                female_tokens += female_num_of_tokens\n",
    "                if female_num_of_tokens not in female_num_of_tokens_map:\n",
    "                    female_num_of_tokens_map[female_num_of_tokens] = 1\n",
    "                else:\n",
    "                    female_num_of_tokens_map[female_num_of_tokens] += 1\n",
    "    with open(target_file, 'w+') as f:\n",
    "        f.write(\"male: \" + str(male_tokens / male_count) + \"\\n\")\n",
    "        f.write(\"female: \" + str(female_tokens / female_count) + \"\\n\")\n",
    "    max_tokens = max(max(male_num_of_tokens_map.keys()),max(female_num_of_tokens_map.keys()))\n",
    "    return male_tokens / male_count, female_tokens / female_count, male_num_of_tokens_map, female_num_of_tokens_map, max_tokens\n",
    "\n",
    "def count_tokens(translations_dict, mp, count,tokenizer, tokens, num_of_tokens_map, gender):\n",
    "    professions = list(translations_dict[mp][gender])\n",
    "    count += len(professions)\n",
    "    for p in professions:\n",
    "        num_of_tokens = len(tokenizer(p)['input_ids'][:-1])\n",
    "        tokens += num_of_tokens\n",
    "        if num_of_tokens not in num_of_tokens_map:\n",
    "            num_of_tokens_map[num_of_tokens] = 1\n",
    "        else:\n",
    "            num_of_tokens_map[num_of_tokens] += 1\n",
    "    return tokens,count\n",
    "\n",
    "def get_annotations_dict(merged_annotations):\n",
    "    translations_dict = {}\n",
    "    professions = set()\n",
    "    with open(merged_annotations, 'r') as f:\n",
    "        lines = f.readlines()\n",
    "    for line in lines:\n",
    "        line = line.strip()\n",
    "        columns = line.split(\"\\t\")\n",
    "        english_profession = columns[0]\n",
    "        professions.add(english_profession)\n",
    "        if not english_profession in translations_dict:\n",
    "            translations_dict[english_profession] = {'Male': [], 'Female': []}\n",
    "        for i in range(1, len(columns)):\n",
    "            if columns[i] != \"\":\n",
    "                if i % 2 and columns[i]:\n",
    "                    translations_dict[english_profession]['Male'].append(columns[i])\n",
    "                else:\n",
    "                    translations_dict[english_profession]['Female'].append(columns[i])\n",
    "    return translations_dict, professions\n",
    "\n",
    "def get_num_of_tokens_per_stereotype(male_stereotype,female_stereotype,translations_dict, tokenizer, target_file):\n",
    "    stereotype_count, stereotype_tokens, anti_stereotype_count, anti_stereotype_tokens = 0, 0, 0, 0\n",
    "    stereotype_num_of_tokens_map, anti_stereotype_num_of_tokens_map = {}, {}\n",
    "    with tokenizer.as_target_tokenizer():\n",
    "        for mp in male_stereotype:\n",
    "            tokens,count = count_tokens(translations_dict, mp, stereotype_count,tokenizer, stereotype_tokens, stereotype_num_of_tokens_map,'Male')\n",
    "            stereotype_tokens+=tokens\n",
    "            stereotype_count+=count\n",
    "            tokens,count = count_tokens(translations_dict, mp, anti_stereotype_count,tokenizer, anti_stereotype_tokens, anti_stereotype_num_of_tokens_map,'Female')\n",
    "            anti_stereotype_tokens += tokens\n",
    "            anti_stereotype_count += count\n",
    "        for fp in female_stereotype:\n",
    "            tokens,count = count_tokens(translations_dict, fp, stereotype_count,tokenizer, stereotype_tokens, stereotype_num_of_tokens_map,'Female')\n",
    "            stereotype_tokens += tokens\n",
    "            stereotype_count += count\n",
    "            tokens,count = count_tokens(translations_dict, fp, anti_stereotype_count,tokenizer, anti_stereotype_tokens, anti_stereotype_num_of_tokens_map,'Male')\n",
    "            anti_stereotype_tokens += tokens\n",
    "            anti_stereotype_count += count\n",
    "    with open(target_file, 'w+') as f:\n",
    "        f.write(\"stereotype: \" + str(stereotype_tokens / stereotype_count) + \"\\n\")\n",
    "        f.write(\"anti stereotype: \" + str(anti_stereotype_tokens / anti_stereotype_count) + \"\\n\")\n",
    "    max_tokens = max(max(stereotype_num_of_tokens_map.keys()),max(anti_stereotype_num_of_tokens_map.keys()))\n",
    "    return stereotype_tokens / stereotype_count, anti_stereotype_tokens / anti_stereotype_count,\\\n",
    "           stereotype_num_of_tokens_map, anti_stereotype_num_of_tokens_map, max_tokens\n"
   ]
  },
  {
   "cell_type": "code",
   "execution_count": 58,
   "id": "619ed6cf",
   "metadata": {},
   "outputs": [],
   "source": [
    "he_translations, professions = get_annotations_dict(\"../data/he_merged_translations_new.txt\")\n",
    "de_translations, professions = get_annotations_dict(\"../data/de_merged_translations_new.txt\")\n",
    "he_male_average_tokens, he_female_average_tokens, he_male_num_of_tokens_map, he_female_num_of_tokens_map, he_max_tokens = \\\n",
    "        get_num_of_tokens_per_gender(professions, he_translations, tokenizer_he, \"../data/he_tokens_per_gender.txt\")\n",
    "de_male_average_tokens, de_female_average_tokens, de_male_num_of_tokens_map, de_female_num_of_tokens_map, de_max_tokens = \\\n",
    "    get_num_of_tokens_per_gender(professions, de_translations, tokenizer_de, \"../data/de_tokens_per_gender.txt\")"
   ]
  },
  {
   "cell_type": "code",
   "execution_count": 54,
   "id": "030df156",
   "metadata": {},
   "outputs": [],
   "source": [
    "with open(\"../data/male_stereotype\",\"r\") as f:\n",
    "    male_stereotype = f.readlines()\n",
    "    male_stereotype = [i.strip() for i in male_stereotype]\n",
    "with open(\"../data/female_stereotype\",\"r\") as f:\n",
    "    female_stereotype = f.readlines()\n",
    "    female_stereotype = [i.strip() for i in female_stereotype]\n",
    "\n",
    "\n",
    "he_stereotype_avg_tokens, he_anti_stereotype_avg_tokens, \\\n",
    "he_stereotype_num_of_tokens_map, he_anti_stereotype_num_of_tokens_map, he_max_tokens = \\\n",
    "    get_num_of_tokens_per_stereotype(male_stereotype, female_stereotype, he_translations, tokenizer_he, \"../data/he_tokens_per_stereotype.txt\")\n",
    "\n",
    "de_stereotype_avg_tokens, de_anti_stereotype_avg_tokens, \\\n",
    "de_stereotype_num_of_tokens_map, de_anti_stereotype_num_of_tokens_map, de_max_tokens = \\\n",
    "    get_num_of_tokens_per_stereotype(male_stereotype, female_stereotype, de_translations, tokenizer_de, \"../data/de_tokens_per_stereotype.txt\")"
   ]
  },
  {
   "cell_type": "markdown",
   "id": "ad7f253d",
   "metadata": {},
   "source": [
    "# Create Plots"
   ]
  },
  {
   "cell_type": "code",
   "execution_count": 75,
   "id": "17826b63",
   "metadata": {},
   "outputs": [],
   "source": [
    "def graphs_3_and_4(group1_num_of_tokens_map, group2_num_of_tokens_map, max_tokens, title, group1_name,group2_name):\n",
    "    for i in range(1,max_tokens+1):\n",
    "        if i not in group1_num_of_tokens_map:\n",
    "            group1_num_of_tokens_map[i] = 0\n",
    "        if i not in group2_num_of_tokens_map:\n",
    "            group2_num_of_tokens_map[i] = 0\n",
    "    group1_num_of_tokens_map = collections.OrderedDict(sorted(group1_num_of_tokens_map.items()))\n",
    "    group2_num_of_tokens_map = collections.OrderedDict(sorted(group2_num_of_tokens_map.items()))\n",
    "\n",
    "\n",
    "    \n",
    "    if 'Gender' in title:\n",
    "        graph_num = '3'\n",
    "        data_1 = pd.DataFrame({'tokens' : group1_num_of_tokens_map.keys(),\n",
    "                              'count': group1_num_of_tokens_map.values(),\n",
    "                              'gender': ['male'] * len(group1_num_of_tokens_map)})\n",
    "        data_2 = pd.DataFrame({'tokens' : group2_num_of_tokens_map.keys(),\n",
    "                              'count': group2_num_of_tokens_map.values(),\n",
    "                              'gender': ['female'] * len(group2_num_of_tokens_map)})\n",
    "\n",
    "        data= pd.concat([data_1, data_2])\n",
    "                                  \n",
    "        g = sns.catplot(x=\"tokens\", y=\"count\",\n",
    "                data=data, kind=\"bar\", hue='gender', \n",
    "                hue_order = ['male', 'female'],\n",
    "                palette=sns.color_palette(['lightblue', 'brown']),\n",
    "                height=4.5, aspect=1.8, legend=False)\n",
    "        leg_title = 'gender'\n",
    "        fig = g.fig\n",
    "        axes = g.axes\n",
    "        \n",
    "    else:\n",
    "        graph_num = '4'\n",
    "        data_1 = pd.DataFrame({'tokens' : group1_num_of_tokens_map.keys(),\n",
    "                              'count': group1_num_of_tokens_map.values(),\n",
    "                              'stereotype': ['pro'] * len(group1_num_of_tokens_map)})\n",
    "        data_2 = pd.DataFrame({'tokens' : group2_num_of_tokens_map.keys(),\n",
    "                              'count': group2_num_of_tokens_map.values(),\n",
    "                              'stereotype': ['anti'] * len(group2_num_of_tokens_map)})\n",
    "\n",
    "        data = pd.concat([data_1, data_2])\n",
    "          \n",
    "        g = sns.catplot(x=\"tokens\", y='count',\n",
    "                data=data, kind=\"bar\", hue='stereotype', \n",
    "                hue_order = ['pro', 'anti'],\n",
    "                palette=sns.color_palette(['mediumaquamarine', 'darkorange']),\n",
    "                height=4.5, aspect=1.8, legend=False)\n",
    "        leg_title = 'stereotpye'\n",
    "        fig = g.fig\n",
    "        axes = g.axes\n",
    "\n",
    "        \n",
    "    axes[0,0].set_xlim(left=-0.5, right=3.5)\n",
    "    axes[0,0].set_ylim(bottom=0.0, top=40)\n",
    "        \n",
    "    if 'Hebrew' in title:\n",
    "        lang = 'he'\n",
    "        axes[0,0].legend(ncol=1,loc='lower right', bbox_to_anchor=(.99, 0.4), title=leg_title)\n",
    "    else:\n",
    "        lang = 'de'\n",
    "        \n",
    "    plt.tight_layout()\n",
    "\n",
    "    plt.savefig(f'../graphs/graph_{graph_num}_{lang}.pdf', dpi=300)\n",
    "    \n",
    "    plt.show()\n"
   ]
  },
  {
   "cell_type": "code",
   "execution_count": 76,
   "id": "152e1262",
   "metadata": {},
   "outputs": [
    {
     "data": {
      "image/png": "[encoded data removed]",
      "text/plain": [
       "<Figure size 583.2x324 with 1 Axes>"
      ]
     },
     "metadata": {
      "needs_background": "light"
     },
     "output_type": "display_data"
    }
   ],
   "source": [
    "graphs_3_and_4(de_male_num_of_tokens_map, de_female_num_of_tokens_map, de_max_tokens, \n",
    "               \"German num of tokens per Gender\", \"Male\", \"Female\")"
   ]
  },
  {
   "cell_type": "code",
   "execution_count": 77,
   "id": "acf3ed0c",
   "metadata": {},
   "outputs": [
    {
     "data": {
      "image/png": "[encoded data removed]",
      "text/plain": [
       "<Figure size 583.2x324 with 1 Axes>"
      ]
     },
     "metadata": {
      "needs_background": "light"
     },
     "output_type": "display_data"
    }
   ],
   "source": [
    "graphs_3_and_4(he_male_num_of_tokens_map, he_female_num_of_tokens_map, he_max_tokens, \n",
    "               \"Hebrew num of tokens per Gender\", \"Male\", \"Female\")"
   ]
  },
  {
   "cell_type": "code",
   "execution_count": 78,
   "id": "f807985f",
   "metadata": {},
   "outputs": [
    {
     "data": {
      "image/png": "[encoded data removed]",
      "text/plain": [
       "<Figure size 583.2x324 with 1 Axes>"
      ]
     },
     "metadata": {
      "needs_background": "light"
     },
     "output_type": "display_data"
    }
   ],
   "source": [
    "graphs_3_and_4(he_stereotype_num_of_tokens_map, he_anti_stereotype_num_of_tokens_map, he_max_tokens, \"Hebrew num of tokens per stereotype\", \"stereotype\", \"Anti stereotype\")"
   ]
  },
  {
   "cell_type": "code",
   "execution_count": 79,
   "id": "2b6ae468",
   "metadata": {},
   "outputs": [
    {
     "data": {
      "image/png": "[encoded data removed]",
      "text/plain": [
       "<Figure size 583.2x324 with 1 Axes>"
      ]
     },
     "metadata": {
      "needs_background": "light"
     },
     "output_type": "display_data"
    }
   ],
   "source": [
    "graphs_3_and_4(de_stereotype_num_of_tokens_map, de_anti_stereotype_num_of_tokens_map, de_max_tokens, \"German num of tokens per stereotype\", \"stereotype\", \"Anti stereotype\")"
   ]
  }
 ],
 "metadata": {
  "kernelspec": {
   "display_name": "Python 3 (ipykernel)",
   "language": "python",
   "name": "python3"
  },
  "language_info": {
   "codemirror_mode": {
    "name": "ipython",
    "version": 3
   },
   "file_extension": ".py",
   "mimetype": "text/x-python",
   "name": "python",
   "nbconvert_exporter": "python",
   "pygments_lexer": "ipython3",
   "version": "3.8.13"
  }
 },
 "nbformat": 4,
 "nbformat_minor": 5
}
